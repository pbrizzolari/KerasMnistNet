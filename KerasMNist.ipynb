{
 "cells": [
  {
   "cell_type": "code",
   "execution_count": 1,
   "metadata": {},
   "outputs": [
    {
     "name": "stderr",
     "output_type": "stream",
     "text": [
      "Using TensorFlow backend.\n"
     ]
    }
   ],
   "source": [
    "from __future__ import print_function\n",
    "import numpy as np\n",
    "from keras.datasets import mnist\n",
    "from keras.models import Sequential\n",
    "from keras.layers.core import Dense, Activation\n",
    "from keras.optimizers import SGD\n",
    "from keras.utils import np_utils"
   ]
  },
  {
   "cell_type": "code",
   "execution_count": 2,
   "metadata": {
    "collapsed": true
   },
   "outputs": [],
   "source": [
    "np.random.seed(1671) #For reproducability"
   ]
  },
  {
   "cell_type": "code",
   "execution_count": 17,
   "metadata": {
    "collapsed": true
   },
   "outputs": [],
   "source": [
    "#network and training\n",
    "NB_EPOCH = 20\n",
    "BATCH_SIZE=128\n",
    "VERBOSE=1\n",
    "NB_CLASSES=10 # Number of categories (digits) in the Mnist data set\n",
    "OPTIMIZER=SGD() #Stochastic Gradient Descent Optimizer\n",
    "N_HIDDEN=128\n",
    "VALIDATION_SPLIT=0.2 #Split between training and validation sets"
   ]
  },
  {
   "cell_type": "code",
   "execution_count": 18,
   "metadata": {},
   "outputs": [
    {
     "data": {
      "text/plain": [
       "(60000, 28, 28)"
      ]
     },
     "execution_count": 18,
     "metadata": {},
     "output_type": "execute_result"
    }
   ],
   "source": [
    "(X_train, y_train), (X_test, y_test) = mnist.load_data()\n",
    "X_train.shape"
   ]
  },
  {
   "cell_type": "code",
   "execution_count": 19,
   "metadata": {},
   "outputs": [
    {
     "name": "stdout",
     "output_type": "stream",
     "text": [
      "60000 training samples\n",
      "10000 testing samples\n"
     ]
    }
   ],
   "source": [
    "#Data Massaging to get to a usable format\n",
    "#X_train is 60000 * 28 * 28 which we want to reshape to 60000 * 784\n",
    "RESHAPED=784\n",
    "X_train=X_train.reshape(60000, RESHAPED)\n",
    "X_test=X_test.reshape(10000, RESHAPED)\n",
    "X_train=X_train.astype('float32')\n",
    "X_test=X_test.astype('float32')\n",
    "#normalize\n",
    "X_train /= 255\n",
    "X_test /= 255\n",
    "print(X_train.shape[0], 'training samples')\n",
    "print(X_test.shape[0], 'testing samples')"
   ]
  },
  {
   "cell_type": "code",
   "execution_count": 20,
   "metadata": {
    "collapsed": true
   },
   "outputs": [],
   "source": [
    "#convert class vectors to binary class matrices\n",
    "Y_train=np_utils.to_categorical(y_train, NB_CLASSES)\n",
    "Y_test=np_utils.to_categorical(y_test, NB_CLASSES)"
   ]
  },
  {
   "cell_type": "code",
   "execution_count": 25,
   "metadata": {},
   "outputs": [
    {
     "name": "stdout",
     "output_type": "stream",
     "text": [
      "_________________________________________________________________\n",
      "Layer (type)                 Output Shape              Param #   \n",
      "=================================================================\n",
      "dense_12 (Dense)             (None, 128)               100480    \n",
      "_________________________________________________________________\n",
      "activation_13 (Activation)   (None, 128)               0         \n",
      "_________________________________________________________________\n",
      "dense_13 (Dense)             (None, 128)               16512     \n",
      "_________________________________________________________________\n",
      "activation_14 (Activation)   (None, 128)               0         \n",
      "_________________________________________________________________\n",
      "dense_14 (Dense)             (None, 128)               16512     \n",
      "_________________________________________________________________\n",
      "activation_15 (Activation)   (None, 128)               0         \n",
      "_________________________________________________________________\n",
      "dense_15 (Dense)             (None, 128)               16512     \n",
      "_________________________________________________________________\n",
      "activation_16 (Activation)   (None, 128)               0         \n",
      "_________________________________________________________________\n",
      "dense_16 (Dense)             (None, 10)                1290      \n",
      "_________________________________________________________________\n",
      "activation_17 (Activation)   (None, 10)                0         \n",
      "=================================================================\n",
      "Total params: 151,306\n",
      "Trainable params: 151,306\n",
      "Non-trainable params: 0\n",
      "_________________________________________________________________\n"
     ]
    }
   ],
   "source": [
    "#Define model with 10 outputs using a softmax output layer\n",
    "model=Sequential()\n",
    "#Add Hidden layer to test the effect on accuracy\n",
    "model.add(Dense(N_HIDDEN, input_shape=(RESHAPED,)))\n",
    "model.add(Activation('relu'))\n",
    "model.add(Dense(N_HIDDEN))\n",
    "model.add(Activation('relu'))\n",
    "model.add(Dense(N_HIDDEN))\n",
    "model.add(Activation('relu'))\n",
    "model.add(Dense(N_HIDDEN))\n",
    "model.add(Activation('relu'))\n",
    "#Existing Layers\n",
    "model.add(Dense(NB_CLASSES)) #Input Shape specification stays on the first layer of the net\n",
    "model.add(Activation('softmax'))\n",
    "model.summary()"
   ]
  },
  {
   "cell_type": "code",
   "execution_count": null,
   "metadata": {},
   "outputs": [
    {
     "name": "stdout",
     "output_type": "stream",
     "text": [
      "Train on 48000 samples, validate on 12000 samples\n",
      "Epoch 1/20\n",
      "48000/48000 [==============================] - 2s 35us/step - loss: 1.8222 - acc: 0.4936 - val_loss: 0.9209 - val_acc: 0.7812\n",
      "Epoch 2/20\n",
      "48000/48000 [==============================] - 2s 31us/step - loss: 0.6271 - acc: 0.8255 - val_loss: 0.4403 - val_acc: 0.8743\n",
      "Epoch 3/20\n",
      "48000/48000 [==============================] - 2s 33us/step - loss: 0.4158 - acc: 0.8785 - val_loss: 0.3535 - val_acc: 0.8968\n",
      "Epoch 4/20\n",
      "48000/48000 [==============================] - 2s 32us/step - loss: 0.3485 - acc: 0.8985 - val_loss: 0.3078 - val_acc: 0.9070\n",
      "Epoch 5/20\n",
      "48000/48000 [==============================] - 2s 33us/step - loss: 0.3086 - acc: 0.9111 - val_loss: 0.2765 - val_acc: 0.9214\n",
      "Epoch 6/20\n",
      "48000/48000 [==============================] - 2s 34us/step - loss: 0.2802 - acc: 0.9187 - val_loss: 0.2572 - val_acc: 0.9280\n",
      "Epoch 7/20\n",
      "48000/48000 [==============================] - 2s 35us/step - loss: 0.2585 - acc: 0.9250 - val_loss: 0.2374 - val_acc: 0.9313\n",
      "Epoch 8/20\n",
      "48000/48000 [==============================] - 2s 36us/step - loss: 0.2399 - acc: 0.9305 - val_loss: 0.2301 - val_acc: 0.9322\n",
      "Epoch 9/20\n",
      "48000/48000 [==============================] - 2s 34us/step - loss: 0.2236 - acc: 0.9351 - val_loss: 0.2109 - val_acc: 0.9393\n",
      "Epoch 10/20\n",
      "48000/48000 [==============================] - 2s 34us/step - loss: 0.2103 - acc: 0.9386 - val_loss: 0.2028 - val_acc: 0.9413\n",
      "Epoch 11/20\n",
      "48000/48000 [==============================] - 2s 35us/step - loss: 0.1981 - acc: 0.9424 - val_loss: 0.1929 - val_acc: 0.9448\n",
      "Epoch 12/20\n",
      "48000/48000 [==============================] - 2s 37us/step - loss: 0.1871 - acc: 0.9457 - val_loss: 0.1856 - val_acc: 0.9459\n",
      "Epoch 13/20\n",
      "48000/48000 [==============================] - 2s 39us/step - loss: 0.1774 - acc: 0.9488 - val_loss: 0.1816 - val_acc: 0.9480\n",
      "Epoch 14/20\n",
      "48000/48000 [==============================] - 2s 39us/step - loss: 0.1680 - acc: 0.9514 - val_loss: 0.1689 - val_acc: 0.9513\n",
      "Epoch 15/20\n",
      "48000/48000 [==============================] - 2s 36us/step - loss: 0.1597 - acc: 0.9533 - val_loss: 0.1686 - val_acc: 0.9513\n",
      "Epoch 16/20\n",
      "41344/48000 [========================>.....] - ETA: 0s - loss: 0.1546 - acc: 0.9556"
     ]
    }
   ],
   "source": [
    "model.compile(loss='categorical_crossentropy', optimizer=OPTIMIZER, metrics=['accuracy'])\n",
    "history=model.fit(X_train, Y_train, batch_size=BATCH_SIZE, epochs=NB_EPOCH, \n",
    "                  verbose=VERBOSE, validation_split=VALIDATION_SPLIT)\n",
    "score=model.evaluate(X_test, Y_test, verbose=VERBOSE)\n",
    "print(\"Test score:\",score[0])\n",
    "print(\"Test accuracy:\",score[1])"
   ]
  },
  {
   "cell_type": "code",
   "execution_count": null,
   "metadata": {
    "collapsed": true
   },
   "outputs": [],
   "source": []
  }
 ],
 "metadata": {
  "kernelspec": {
   "display_name": "Python 3",
   "language": "python",
   "name": "python3"
  },
  "language_info": {
   "codemirror_mode": {
    "name": "ipython",
    "version": 3
   },
   "file_extension": ".py",
   "mimetype": "text/x-python",
   "name": "python",
   "nbconvert_exporter": "python",
   "pygments_lexer": "ipython3",
   "version": "3.6.3"
  }
 },
 "nbformat": 4,
 "nbformat_minor": 2
}
