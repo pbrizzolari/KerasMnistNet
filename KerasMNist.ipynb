{
 "cells": [
  {
   "cell_type": "code",
   "execution_count": 1,
   "metadata": {},
   "outputs": [
    {
     "name": "stderr",
     "output_type": "stream",
     "text": [
      "Using TensorFlow backend.\n"
     ]
    }
   ],
   "source": [
    "from __future__ import print_function\n",
    "import numpy as np\n",
    "from keras.datasets import mnist\n",
    "from keras.models import Sequential\n",
    "from keras.layers.core import Dense, Activation\n",
    "from keras.optimizers import SGD\n",
    "from keras.utils import np_utils"
   ]
  },
  {
   "cell_type": "code",
   "execution_count": 2,
   "metadata": {
    "collapsed": true
   },
   "outputs": [],
   "source": [
    "np.random.seed(1671) #For reproducability"
   ]
  },
  {
   "cell_type": "code",
   "execution_count": 17,
   "metadata": {
    "collapsed": true
   },
   "outputs": [],
   "source": [
    "#network and training\n",
    "NB_EPOCH = 20\n",
    "BATCH_SIZE=128\n",
    "VERBOSE=1\n",
    "NB_CLASSES=10 # Number of categories (digits) in the Mnist data set\n",
    "OPTIMIZER=SGD() #Stochastic Gradient Descent Optimizer\n",
    "N_HIDDEN=128\n",
    "VALIDATION_SPLIT=0.2 #Split between training and validation sets"
   ]
  },
  {
   "cell_type": "code",
   "execution_count": 18,
   "metadata": {},
   "outputs": [
    {
     "data": {
      "text/plain": [
       "(60000, 28, 28)"
      ]
     },
     "execution_count": 18,
     "metadata": {},
     "output_type": "execute_result"
    }
   ],
   "source": [
    "(X_train, y_train), (X_test, y_test) = mnist.load_data()\n",
    "X_train.shape"
   ]
  },
  {
   "cell_type": "code",
   "execution_count": 19,
   "metadata": {},
   "outputs": [
    {
     "name": "stdout",
     "output_type": "stream",
     "text": [
      "60000 training samples\n",
      "10000 testing samples\n"
     ]
    }
   ],
   "source": [
    "#Data Massaging to get to a usable format\n",
    "#X_train is 60000 * 28 * 28 which we want to reshape to 60000 * 784\n",
    "RESHAPED=784\n",
    "X_train=X_train.reshape(60000, RESHAPED)\n",
    "X_test=X_test.reshape(10000, RESHAPED)\n",
    "X_train=X_train.astype('float32')\n",
    "X_test=X_test.astype('float32')\n",
    "#normalize\n",
    "X_train /= 255\n",
    "X_test /= 255\n",
    "print(X_train.shape[0], 'training samples')\n",
    "print(X_test.shape[0], 'testing samples')"
   ]
  },
  {
   "cell_type": "code",
   "execution_count": 20,
   "metadata": {
    "collapsed": true
   },
   "outputs": [],
   "source": [
    "#convert class vectors to binary class matrices\n",
    "Y_train=np_utils.to_categorical(y_train, NB_CLASSES)\n",
    "Y_test=np_utils.to_categorical(y_test, NB_CLASSES)"
   ]
  },
  {
   "cell_type": "code",
   "execution_count": 21,
   "metadata": {},
   "outputs": [
    {
     "name": "stdout",
     "output_type": "stream",
     "text": [
      "_________________________________________________________________\n",
      "Layer (type)                 Output Shape              Param #   \n",
      "=================================================================\n",
      "dense_5 (Dense)              (None, 128)               100480    \n",
      "_________________________________________________________________\n",
      "activation_6 (Activation)    (None, 128)               0         \n",
      "_________________________________________________________________\n",
      "dense_6 (Dense)              (None, 128)               16512     \n",
      "_________________________________________________________________\n",
      "activation_7 (Activation)    (None, 128)               0         \n",
      "_________________________________________________________________\n",
      "dense_7 (Dense)              (None, 10)                1290      \n",
      "_________________________________________________________________\n",
      "activation_8 (Activation)    (None, 10)                0         \n",
      "=================================================================\n",
      "Total params: 118,282\n",
      "Trainable params: 118,282\n",
      "Non-trainable params: 0\n",
      "_________________________________________________________________\n"
     ]
    }
   ],
   "source": [
    "#Define model with 10 outputs using a softmax output layer\n",
    "model=Sequential()\n",
    "#Add Hidden layer to test the effect on accuracy\n",
    "model.add(Dense(N_HIDDEN, input_shape=(RESHAPED,)))\n",
    "model.add(Activation('relu'))\n",
    "model.add(Dense(N_HIDDEN))\n",
    "model.add(Activation('relu'))\n",
    "#Existing Layers\n",
    "model.add(Dense(NB_CLASSES)) #Input Shape specification stays on the first layer of the net\n",
    "model.add(Activation('softmax'))\n",
    "model.summary()"
   ]
  },
  {
   "cell_type": "code",
   "execution_count": 22,
   "metadata": {},
   "outputs": [
    {
     "name": "stdout",
     "output_type": "stream",
     "text": [
      "Train on 48000 samples, validate on 12000 samples\n",
      "Epoch 1/20\n",
      "48000/48000 [==============================] - 1s 27us/step - loss: 1.4972 - acc: 0.6238 - val_loss: 0.7566 - val_acc: 0.8356\n",
      "Epoch 2/20\n",
      "48000/48000 [==============================] - 1s 26us/step - loss: 0.5929 - acc: 0.8533 - val_loss: 0.4496 - val_acc: 0.8840\n",
      "Epoch 3/20\n",
      "48000/48000 [==============================] - 1s 26us/step - loss: 0.4333 - acc: 0.8844 - val_loss: 0.3702 - val_acc: 0.8992\n",
      "Epoch 4/20\n",
      "48000/48000 [==============================] - 1s 26us/step - loss: 0.3750 - acc: 0.8967 - val_loss: 0.3322 - val_acc: 0.9067\n",
      "Epoch 5/20\n",
      "48000/48000 [==============================] - 1s 26us/step - loss: 0.3418 - acc: 0.9039 - val_loss: 0.3086 - val_acc: 0.9118\n",
      "Epoch 6/20\n",
      "48000/48000 [==============================] - 1s 26us/step - loss: 0.3189 - acc: 0.9097 - val_loss: 0.2908 - val_acc: 0.9188\n",
      "Epoch 7/20\n",
      "48000/48000 [==============================] - 1s 26us/step - loss: 0.3014 - acc: 0.9138 - val_loss: 0.2776 - val_acc: 0.9208\n",
      "Epoch 8/20\n",
      "48000/48000 [==============================] - 1s 28us/step - loss: 0.2867 - acc: 0.9183 - val_loss: 0.2678 - val_acc: 0.9242\n",
      "Epoch 9/20\n",
      "48000/48000 [==============================] - 1s 28us/step - loss: 0.2746 - acc: 0.9216 - val_loss: 0.2569 - val_acc: 0.9275\n",
      "Epoch 10/20\n",
      "48000/48000 [==============================] - 1s 29us/step - loss: 0.2640 - acc: 0.9248 - val_loss: 0.2492 - val_acc: 0.9286\n",
      "Epoch 11/20\n",
      "48000/48000 [==============================] - 1s 30us/step - loss: 0.2544 - acc: 0.9277 - val_loss: 0.2403 - val_acc: 0.9317\n",
      "Epoch 12/20\n",
      "48000/48000 [==============================] - 1s 28us/step - loss: 0.2453 - acc: 0.9303 - val_loss: 0.2355 - val_acc: 0.9330\n",
      "Epoch 13/20\n",
      "48000/48000 [==============================] - 1s 28us/step - loss: 0.2370 - acc: 0.9325 - val_loss: 0.2283 - val_acc: 0.9352\n",
      "Epoch 14/20\n",
      "48000/48000 [==============================] - 1s 28us/step - loss: 0.2297 - acc: 0.9342 - val_loss: 0.2210 - val_acc: 0.9377\n",
      "Epoch 15/20\n",
      "48000/48000 [==============================] - 1s 28us/step - loss: 0.2228 - acc: 0.9358 - val_loss: 0.2156 - val_acc: 0.9403\n",
      "Epoch 16/20\n",
      "48000/48000 [==============================] - 1s 29us/step - loss: 0.2160 - acc: 0.9380 - val_loss: 0.2106 - val_acc: 0.9412\n",
      "Epoch 17/20\n",
      "48000/48000 [==============================] - 1s 28us/step - loss: 0.2101 - acc: 0.9405 - val_loss: 0.2061 - val_acc: 0.9431\n",
      "Epoch 18/20\n",
      "48000/48000 [==============================] - 1s 29us/step - loss: 0.2040 - acc: 0.9416 - val_loss: 0.2017 - val_acc: 0.9443\n",
      "Epoch 19/20\n",
      "48000/48000 [==============================] - 1s 31us/step - loss: 0.1986 - acc: 0.9439 - val_loss: 0.1966 - val_acc: 0.9455\n",
      "Epoch 20/20\n",
      "48000/48000 [==============================] - 2s 31us/step - loss: 0.1932 - acc: 0.9452 - val_loss: 0.1937 - val_acc: 0.9456\n",
      "10000/10000 [==============================] - 0s 29us/step\n",
      "Test score: 0.190681479934\n",
      "Test accuracy: 0.9442\n"
     ]
    }
   ],
   "source": [
    "model.compile(loss='categorical_crossentropy', optimizer=OPTIMIZER, metrics=['accuracy'])\n",
    "history=model.fit(X_train, Y_train, batch_size=BATCH_SIZE, epochs=NB_EPOCH, \n",
    "                  verbose=VERBOSE, validation_split=VALIDATION_SPLIT)\n",
    "score=model.evaluate(X_test, Y_test, verbose=VERBOSE)\n",
    "print(\"Test score:\",score[0])\n",
    "print(\"Test accuracy:\",score[1])"
   ]
  },
  {
   "cell_type": "code",
   "execution_count": null,
   "metadata": {
    "collapsed": true
   },
   "outputs": [],
   "source": []
  }
 ],
 "metadata": {
  "kernelspec": {
   "display_name": "Python 3",
   "language": "python",
   "name": "python3"
  },
  "language_info": {
   "codemirror_mode": {
    "name": "ipython",
    "version": 3
   },
   "file_extension": ".py",
   "mimetype": "text/x-python",
   "name": "python",
   "nbconvert_exporter": "python",
   "pygments_lexer": "ipython3",
   "version": "3.6.3"
  }
 },
 "nbformat": 4,
 "nbformat_minor": 2
}
