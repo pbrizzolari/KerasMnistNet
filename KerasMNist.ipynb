{
 "cells": [
  {
   "cell_type": "code",
   "execution_count": 39,
   "metadata": {},
   "outputs": [],
   "source": [
    "from __future__ import print_function\n",
    "import numpy as np\n",
    "from keras.datasets import mnist\n",
    "from keras.models import Sequential\n",
    "from keras.layers.core import Dense, Activation, Dropout #Add Dropout layer\n",
    "from keras.optimizers import SGD\n",
    "from keras.utils import np_utils"
   ]
  },
  {
   "cell_type": "code",
   "execution_count": 40,
   "metadata": {
    "collapsed": true
   },
   "outputs": [],
   "source": [
    "np.random.seed(1671) #For reproducability"
   ]
  },
  {
   "cell_type": "code",
   "execution_count": 41,
   "metadata": {
    "collapsed": true
   },
   "outputs": [],
   "source": [
    "#network and training\n",
    "NB_EPOCH = 20\n",
    "BATCH_SIZE=128\n",
    "VERBOSE=1\n",
    "NB_CLASSES=10 # Number of categories (digits) in the Mnist data set\n",
    "OPTIMIZER=SGD() #Stochastic Gradient Descent Optimizer\n",
    "N_HIDDEN=128\n",
    "VALIDATION_SPLIT=0.2 #Split between training and validation sets\n",
    "#Add a dropout constant\n",
    "DROPOUT=0.3"
   ]
  },
  {
   "cell_type": "code",
   "execution_count": 42,
   "metadata": {},
   "outputs": [
    {
     "data": {
      "text/plain": [
       "(60000, 28, 28)"
      ]
     },
     "execution_count": 42,
     "metadata": {},
     "output_type": "execute_result"
    }
   ],
   "source": [
    "(X_train, y_train), (X_test, y_test) = mnist.load_data()\n",
    "X_train.shape"
   ]
  },
  {
   "cell_type": "code",
   "execution_count": 43,
   "metadata": {},
   "outputs": [
    {
     "name": "stdout",
     "output_type": "stream",
     "text": [
      "60000 training samples\n",
      "10000 testing samples\n"
     ]
    }
   ],
   "source": [
    "#Data Massaging to get to a usable format\n",
    "#X_train is 60000 * 28 * 28 which we want to reshape to 60000 * 784\n",
    "RESHAPED=784\n",
    "X_train=X_train.reshape(60000, RESHAPED)\n",
    "X_test=X_test.reshape(10000, RESHAPED)\n",
    "X_train=X_train.astype('float32')\n",
    "X_test=X_test.astype('float32')\n",
    "#normalize\n",
    "X_train /= 255\n",
    "X_test /= 255\n",
    "print(X_train.shape[0], 'training samples')\n",
    "print(X_test.shape[0], 'testing samples')"
   ]
  },
  {
   "cell_type": "code",
   "execution_count": 44,
   "metadata": {
    "collapsed": true
   },
   "outputs": [],
   "source": [
    "#convert class vectors to binary class matrices\n",
    "Y_train=np_utils.to_categorical(y_train, NB_CLASSES)\n",
    "Y_test=np_utils.to_categorical(y_test, NB_CLASSES)"
   ]
  },
  {
   "cell_type": "code",
   "execution_count": 45,
   "metadata": {},
   "outputs": [
    {
     "name": "stdout",
     "output_type": "stream",
     "text": [
      "_________________________________________________________________\n",
      "Layer (type)                 Output Shape              Param #   \n",
      "=================================================================\n",
      "dense_36 (Dense)             (None, 128)               100480    \n",
      "_________________________________________________________________\n",
      "activation_37 (Activation)   (None, 128)               0         \n",
      "_________________________________________________________________\n",
      "dropout_1 (Dropout)          (None, 128)               0         \n",
      "_________________________________________________________________\n",
      "dense_37 (Dense)             (None, 128)               16512     \n",
      "_________________________________________________________________\n",
      "activation_38 (Activation)   (None, 128)               0         \n",
      "_________________________________________________________________\n",
      "dropout_2 (Dropout)          (None, 128)               0         \n",
      "_________________________________________________________________\n",
      "dense_38 (Dense)             (None, 10)                1290      \n",
      "_________________________________________________________________\n",
      "activation_39 (Activation)   (None, 10)                0         \n",
      "=================================================================\n",
      "Total params: 118,282\n",
      "Trainable params: 118,282\n",
      "Non-trainable params: 0\n",
      "_________________________________________________________________\n"
     ]
    }
   ],
   "source": [
    "#Define model with 10 outputs using a softmax output layer\n",
    "model=Sequential()\n",
    "#Add Hidden layer to test the effect on accuracy\n",
    "model.add(Dense(N_HIDDEN, input_shape=(RESHAPED,)))\n",
    "model.add(Activation('relu'))\n",
    "model.add(Dropout(DROPOUT))\n",
    "model.add(Dense(N_HIDDEN))\n",
    "model.add(Activation('relu'))\n",
    "model.add(Dropout(DROPOUT))\n",
    "#Existing Layers\n",
    "model.add(Dense(NB_CLASSES)) #Input Shape specification stays on the first layer of the net\n",
    "model.add(Activation('softmax'))\n",
    "model.summary()"
   ]
  },
  {
   "cell_type": "code",
   "execution_count": 46,
   "metadata": {},
   "outputs": [
    {
     "name": "stdout",
     "output_type": "stream",
     "text": [
      "Train on 48000 samples, validate on 12000 samples\n",
      "Epoch 1/20\n",
      "48000/48000 [==============================] - 2s 35us/step - loss: 1.7404 - acc: 0.4539 - val_loss: 0.9293 - val_acc: 0.8124\n",
      "Epoch 2/20\n",
      "48000/48000 [==============================] - 1s 28us/step - loss: 0.9232 - acc: 0.7229 - val_loss: 0.5400 - val_acc: 0.8652\n",
      "Epoch 3/20\n",
      "48000/48000 [==============================] - 1s 28us/step - loss: 0.6935 - acc: 0.7881 - val_loss: 0.4298 - val_acc: 0.8883\n",
      "Epoch 4/20\n",
      "48000/48000 [==============================] - 1s 28us/step - loss: 0.5947 - acc: 0.8209 - val_loss: 0.3790 - val_acc: 0.8977\n",
      "Epoch 5/20\n",
      "48000/48000 [==============================] - 1s 28us/step - loss: 0.5347 - acc: 0.8393 - val_loss: 0.3456 - val_acc: 0.9041\n",
      "Epoch 6/20\n",
      "48000/48000 [==============================] - 1s 29us/step - loss: 0.4977 - acc: 0.8524 - val_loss: 0.3232 - val_acc: 0.9106\n",
      "Epoch 7/20\n",
      "48000/48000 [==============================] - 1s 29us/step - loss: 0.4616 - acc: 0.8629 - val_loss: 0.3048 - val_acc: 0.9128\n",
      "Epoch 8/20\n",
      "48000/48000 [==============================] - 1s 30us/step - loss: 0.4386 - acc: 0.8688 - val_loss: 0.2896 - val_acc: 0.9171\n",
      "Epoch 9/20\n",
      "48000/48000 [==============================] - 1s 29us/step - loss: 0.4181 - acc: 0.8762 - val_loss: 0.2776 - val_acc: 0.9198\n",
      "Epoch 10/20\n",
      "48000/48000 [==============================] - 1s 29us/step - loss: 0.3990 - acc: 0.8838 - val_loss: 0.2657 - val_acc: 0.9233\n",
      "Epoch 11/20\n",
      "48000/48000 [==============================] - 1s 29us/step - loss: 0.3819 - acc: 0.8876 - val_loss: 0.2552 - val_acc: 0.9258\n",
      "Epoch 12/20\n",
      "48000/48000 [==============================] - 1s 30us/step - loss: 0.3688 - acc: 0.8919 - val_loss: 0.2466 - val_acc: 0.9282\n",
      "Epoch 13/20\n",
      "48000/48000 [==============================] - 1s 31us/step - loss: 0.3571 - acc: 0.8943 - val_loss: 0.2388 - val_acc: 0.9298\n",
      "Epoch 14/20\n",
      "48000/48000 [==============================] - 2s 32us/step - loss: 0.3466 - acc: 0.8991 - val_loss: 0.2320 - val_acc: 0.9323\n",
      "Epoch 15/20\n",
      "48000/48000 [==============================] - 2s 35us/step - loss: 0.3359 - acc: 0.9015 - val_loss: 0.2261 - val_acc: 0.9339\n",
      "Epoch 16/20\n",
      "48000/48000 [==============================] - 2s 35us/step - loss: 0.3244 - acc: 0.9055 - val_loss: 0.2180 - val_acc: 0.9351\n",
      "Epoch 17/20\n",
      "48000/48000 [==============================] - 2s 34us/step - loss: 0.3142 - acc: 0.9085 - val_loss: 0.2122 - val_acc: 0.9377\n",
      "Epoch 18/20\n",
      "48000/48000 [==============================] - 2s 34us/step - loss: 0.3103 - acc: 0.9094 - val_loss: 0.2076 - val_acc: 0.9389\n",
      "Epoch 19/20\n",
      "48000/48000 [==============================] - 2s 34us/step - loss: 0.3019 - acc: 0.9118 - val_loss: 0.2018 - val_acc: 0.9409\n",
      "Epoch 20/20\n",
      "48000/48000 [==============================] - 2s 34us/step - loss: 0.2931 - acc: 0.9130 - val_loss: 0.1974 - val_acc: 0.9421\n",
      "10000/10000 [==============================] - 0s 33us/step\n",
      "Test score: 0.199432100251\n",
      "Test accuracy: 0.9401\n"
     ]
    }
   ],
   "source": [
    "model.compile(loss='categorical_crossentropy', optimizer=OPTIMIZER, metrics=['accuracy'])\n",
    "history=model.fit(X_train, Y_train, batch_size=BATCH_SIZE, epochs=NB_EPOCH, \n",
    "                  verbose=VERBOSE, validation_split=VALIDATION_SPLIT)\n",
    "score=model.evaluate(X_test, Y_test, verbose=VERBOSE)\n",
    "print(\"Test score:\",score[0])\n",
    "print(\"Test accuracy:\",score[1])"
   ]
  },
  {
   "cell_type": "code",
   "execution_count": null,
   "metadata": {
    "collapsed": true
   },
   "outputs": [],
   "source": []
  }
 ],
 "metadata": {
  "kernelspec": {
   "display_name": "Python 3",
   "language": "python",
   "name": "python3"
  },
  "language_info": {
   "codemirror_mode": {
    "name": "ipython",
    "version": 3
   },
   "file_extension": ".py",
   "mimetype": "text/x-python",
   "name": "python",
   "nbconvert_exporter": "python",
   "pygments_lexer": "ipython3",
   "version": "3.6.3"
  }
 },
 "nbformat": 4,
 "nbformat_minor": 2
}
