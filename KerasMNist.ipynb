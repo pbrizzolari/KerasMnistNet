{
 "cells": [
  {
   "cell_type": "code",
   "execution_count": 1,
   "metadata": {},
   "outputs": [
    {
     "name": "stderr",
     "output_type": "stream",
     "text": [
      "Using TensorFlow backend.\n"
     ]
    }
   ],
   "source": [
    "from __future__ import print_function\n",
    "import numpy as np\n",
    "from keras.datasets import mnist\n",
    "from keras.models import Sequential\n",
    "from keras.layers.core import Dense, Activation\n",
    "from keras.optimizers import SGD\n",
    "from keras.utils import np_utils"
   ]
  },
  {
   "cell_type": "code",
   "execution_count": 2,
   "metadata": {
    "collapsed": true
   },
   "outputs": [],
   "source": [
    "np.random.seed(1671) #For reproducability"
   ]
  },
  {
   "cell_type": "code",
   "execution_count": 17,
   "metadata": {
    "collapsed": true
   },
   "outputs": [],
   "source": [
    "#network and training\n",
    "NB_EPOCH = 20\n",
    "BATCH_SIZE=128\n",
    "VERBOSE=1\n",
    "NB_CLASSES=10 # Number of categories (digits) in the Mnist data set\n",
    "OPTIMIZER=SGD() #Stochastic Gradient Descent Optimizer\n",
    "N_HIDDEN=128\n",
    "VALIDATION_SPLIT=0.2 #Split between training and validation sets"
   ]
  },
  {
   "cell_type": "code",
   "execution_count": 18,
   "metadata": {},
   "outputs": [
    {
     "data": {
      "text/plain": [
       "(60000, 28, 28)"
      ]
     },
     "execution_count": 18,
     "metadata": {},
     "output_type": "execute_result"
    }
   ],
   "source": [
    "(X_train, y_train), (X_test, y_test) = mnist.load_data()\n",
    "X_train.shape"
   ]
  },
  {
   "cell_type": "code",
   "execution_count": 19,
   "metadata": {},
   "outputs": [
    {
     "name": "stdout",
     "output_type": "stream",
     "text": [
      "60000 training samples\n",
      "10000 testing samples\n"
     ]
    }
   ],
   "source": [
    "#Data Massaging to get to a usable format\n",
    "#X_train is 60000 * 28 * 28 which we want to reshape to 60000 * 784\n",
    "RESHAPED=784\n",
    "X_train=X_train.reshape(60000, RESHAPED)\n",
    "X_test=X_test.reshape(10000, RESHAPED)\n",
    "X_train=X_train.astype('float32')\n",
    "X_test=X_test.astype('float32')\n",
    "#normalize\n",
    "X_train /= 255\n",
    "X_test /= 255\n",
    "print(X_train.shape[0], 'training samples')\n",
    "print(X_test.shape[0], 'testing samples')"
   ]
  },
  {
   "cell_type": "code",
   "execution_count": 20,
   "metadata": {
    "collapsed": true
   },
   "outputs": [],
   "source": [
    "#convert class vectors to binary class matrices\n",
    "Y_train=np_utils.to_categorical(y_train, NB_CLASSES)\n",
    "Y_test=np_utils.to_categorical(y_test, NB_CLASSES)"
   ]
  },
  {
   "cell_type": "code",
   "execution_count": 29,
   "metadata": {},
   "outputs": [
    {
     "name": "stdout",
     "output_type": "stream",
     "text": [
      "_________________________________________________________________\n",
      "Layer (type)                 Output Shape              Param #   \n",
      "=================================================================\n",
      "dense_24 (Dense)             (None, 128)               100480    \n",
      "_________________________________________________________________\n",
      "activation_25 (Activation)   (None, 128)               0         \n",
      "_________________________________________________________________\n",
      "dense_25 (Dense)             (None, 128)               16512     \n",
      "_________________________________________________________________\n",
      "activation_26 (Activation)   (None, 128)               0         \n",
      "_________________________________________________________________\n",
      "dense_26 (Dense)             (None, 128)               16512     \n",
      "_________________________________________________________________\n",
      "activation_27 (Activation)   (None, 128)               0         \n",
      "_________________________________________________________________\n",
      "dense_27 (Dense)             (None, 128)               16512     \n",
      "_________________________________________________________________\n",
      "activation_28 (Activation)   (None, 128)               0         \n",
      "_________________________________________________________________\n",
      "dense_28 (Dense)             (None, 128)               16512     \n",
      "_________________________________________________________________\n",
      "activation_29 (Activation)   (None, 128)               0         \n",
      "_________________________________________________________________\n",
      "dense_29 (Dense)             (None, 128)               16512     \n",
      "_________________________________________________________________\n",
      "activation_30 (Activation)   (None, 128)               0         \n",
      "_________________________________________________________________\n",
      "dense_30 (Dense)             (None, 128)               16512     \n",
      "_________________________________________________________________\n",
      "activation_31 (Activation)   (None, 128)               0         \n",
      "_________________________________________________________________\n",
      "dense_31 (Dense)             (None, 128)               16512     \n",
      "_________________________________________________________________\n",
      "activation_32 (Activation)   (None, 128)               0         \n",
      "_________________________________________________________________\n",
      "dense_32 (Dense)             (None, 128)               16512     \n",
      "_________________________________________________________________\n",
      "activation_33 (Activation)   (None, 128)               0         \n",
      "_________________________________________________________________\n",
      "dense_33 (Dense)             (None, 10)                1290      \n",
      "_________________________________________________________________\n",
      "activation_34 (Activation)   (None, 10)                0         \n",
      "=================================================================\n",
      "Total params: 233,866\n",
      "Trainable params: 233,866\n",
      "Non-trainable params: 0\n",
      "_________________________________________________________________\n"
     ]
    }
   ],
   "source": [
    "#Define model with 10 outputs using a softmax output layer\n",
    "model=Sequential()\n",
    "#Add Hidden layer to test the effect on accuracy\n",
    "model.add(Dense(N_HIDDEN, input_shape=(RESHAPED,)))\n",
    "model.add(Activation('relu'))\n",
    "model.add(Dense(N_HIDDEN))\n",
    "model.add(Activation('relu'))\n",
    "model.add(Dense(N_HIDDEN))\n",
    "model.add(Activation('relu'))\n",
    "model.add(Dense(N_HIDDEN))\n",
    "model.add(Activation('relu'))\n",
    "model.add(Dense(N_HIDDEN))\n",
    "model.add(Activation('relu'))\n",
    "model.add(Dense(N_HIDDEN))\n",
    "model.add(Activation('relu'))\n",
    "model.add(Dense(N_HIDDEN))\n",
    "model.add(Activation('relu'))\n",
    "model.add(Dense(N_HIDDEN))\n",
    "model.add(Activation('relu'))\n",
    "model.add(Dense(N_HIDDEN))\n",
    "model.add(Activation('relu'))\n",
    "#Existing Layers\n",
    "model.add(Dense(NB_CLASSES)) #Input Shape specification stays on the first layer of the net\n",
    "model.add(Activation('softmax'))\n",
    "model.summary()"
   ]
  },
  {
   "cell_type": "code",
   "execution_count": 30,
   "metadata": {},
   "outputs": [
    {
     "name": "stdout",
     "output_type": "stream",
     "text": [
      "Train on 48000 samples, validate on 12000 samples\n",
      "Epoch 1/20\n",
      "48000/48000 [==============================] - 3s 54us/step - loss: 2.2903 - acc: 0.1661 - val_loss: 2.2712 - val_acc: 0.2043\n",
      "Epoch 2/20\n",
      "48000/48000 [==============================] - 2s 47us/step - loss: 2.0751 - acc: 0.3614 - val_loss: 1.4466 - val_acc: 0.5091\n",
      "Epoch 3/20\n",
      "48000/48000 [==============================] - 2s 50us/step - loss: 0.8868 - acc: 0.7033 - val_loss: 0.5535 - val_acc: 0.8382\n",
      "Epoch 4/20\n",
      "48000/48000 [==============================] - 2s 48us/step - loss: 0.4643 - acc: 0.8598 - val_loss: 0.4305 - val_acc: 0.8672\n",
      "Epoch 5/20\n",
      "48000/48000 [==============================] - 2s 50us/step - loss: 0.3453 - acc: 0.8998 - val_loss: 0.2885 - val_acc: 0.9149\n",
      "Epoch 6/20\n",
      "48000/48000 [==============================] - 3s 55us/step - loss: 0.2905 - acc: 0.9143 - val_loss: 0.2500 - val_acc: 0.9265\n",
      "Epoch 7/20\n",
      "48000/48000 [==============================] - 3s 56us/step - loss: 0.2502 - acc: 0.9267 - val_loss: 0.2403 - val_acc: 0.9300\n",
      "Epoch 8/20\n",
      "48000/48000 [==============================] - 3s 54us/step - loss: 0.2221 - acc: 0.9343 - val_loss: 0.1981 - val_acc: 0.9440\n",
      "Epoch 9/20\n",
      "48000/48000 [==============================] - 3s 53us/step - loss: 0.1975 - acc: 0.9417 - val_loss: 0.2055 - val_acc: 0.9390\n",
      "Epoch 10/20\n",
      "48000/48000 [==============================] - 3s 56us/step - loss: 0.1785 - acc: 0.9471 - val_loss: 0.1734 - val_acc: 0.9487\n",
      "Epoch 11/20\n",
      "48000/48000 [==============================] - 2s 52us/step - loss: 0.1615 - acc: 0.9527 - val_loss: 0.1777 - val_acc: 0.9470\n",
      "Epoch 12/20\n",
      "48000/48000 [==============================] - 3s 53us/step - loss: 0.1497 - acc: 0.9546 - val_loss: 0.1547 - val_acc: 0.9525\n",
      "Epoch 13/20\n",
      "48000/48000 [==============================] - 3s 54us/step - loss: 0.1373 - acc: 0.9595 - val_loss: 0.1477 - val_acc: 0.9555\n",
      "Epoch 14/20\n",
      "48000/48000 [==============================] - 3s 54us/step - loss: 0.1286 - acc: 0.9620 - val_loss: 0.1473 - val_acc: 0.9548\n",
      "Epoch 15/20\n",
      "48000/48000 [==============================] - 3s 55us/step - loss: 0.1178 - acc: 0.9657 - val_loss: 0.1325 - val_acc: 0.9595\n",
      "Epoch 16/20\n",
      "48000/48000 [==============================] - 3s 55us/step - loss: 0.1103 - acc: 0.9673 - val_loss: 0.1363 - val_acc: 0.9598\n",
      "Epoch 17/20\n",
      "48000/48000 [==============================] - 3s 58us/step - loss: 0.1023 - acc: 0.9696 - val_loss: 0.1286 - val_acc: 0.9610\n",
      "Epoch 18/20\n",
      "48000/48000 [==============================] - 3s 53us/step - loss: 0.0951 - acc: 0.9726 - val_loss: 0.1244 - val_acc: 0.9632\n",
      "Epoch 19/20\n",
      "48000/48000 [==============================] - 3s 54us/step - loss: 0.0895 - acc: 0.9737 - val_loss: 0.1284 - val_acc: 0.9608\n",
      "Epoch 20/20\n",
      "48000/48000 [==============================] - 3s 58us/step - loss: 0.0838 - acc: 0.9759 - val_loss: 0.1216 - val_acc: 0.9640\n",
      "10000/10000 [==============================] - 0s 49us/step\n",
      "Test score: 0.129453058808\n",
      "Test accuracy: 0.9617\n"
     ]
    }
   ],
   "source": [
    "model.compile(loss='categorical_crossentropy', optimizer=OPTIMIZER, metrics=['accuracy'])\n",
    "history=model.fit(X_train, Y_train, batch_size=BATCH_SIZE, epochs=NB_EPOCH, \n",
    "                  verbose=VERBOSE, validation_split=VALIDATION_SPLIT)\n",
    "score=model.evaluate(X_test, Y_test, verbose=VERBOSE)\n",
    "print(\"Test score:\",score[0])\n",
    "print(\"Test accuracy:\",score[1])"
   ]
  },
  {
   "cell_type": "code",
   "execution_count": null,
   "metadata": {
    "collapsed": true
   },
   "outputs": [],
   "source": []
  }
 ],
 "metadata": {
  "kernelspec": {
   "display_name": "Python 3",
   "language": "python",
   "name": "python3"
  },
  "language_info": {
   "codemirror_mode": {
    "name": "ipython",
    "version": 3
   },
   "file_extension": ".py",
   "mimetype": "text/x-python",
   "name": "python",
   "nbconvert_exporter": "python",
   "pygments_lexer": "ipython3",
   "version": "3.6.3"
  }
 },
 "nbformat": 4,
 "nbformat_minor": 2
}
